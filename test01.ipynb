{
 "cells": [
  {
   "cell_type": "code",
   "execution_count": null,
   "metadata": {},
   "outputs": [],
   "source": [
    "import numpy as np\n",
    "import matplotlib.pyplot as plt\n",
    "\n",
    "from nerf2.runner import Runner, DataInfo, ImageInfo\n",
    "from mri2 import simulation, utility\n",
    "import loader\n",
    "\n",
    "###\n",
    "path_data = '../NeRF_MR/data/brain/file_brain_AXFLAIR_200_6002462.h5'\n",
    "z = 0\n",
    "img = loader.loadNYU(path_data)[z : z+1]\n",
    "num_angles = utility.getMinimalSpokes(img.shape)\n",
    "\n",
    "###\n",
    "name = 'file_brain_AXFLAIR_200_6002462_{0:02d}'.format(z)\n",
    "af = 4\n",
    "mode = 'golden'\n",
    "angles = utility.getAngles(int(num_angles/af), mode, 0, np.pi)\n",
    "data = simulation.makeMeasuredData(img, angles, is_incribed=True)\n",
    "\n",
    "datainfo = DataInfo(name, data, angles, af, mode)\n",
    "\n",
    "###\n",
    "runner = Runner(datainfo, 'config_brain', device=0)"
   ]
  },
  {
   "cell_type": "code",
   "execution_count": null,
   "metadata": {},
   "outputs": [],
   "source": [
    "runner.train(True, 2000)"
   ]
  },
  {
   "cell_type": "code",
   "execution_count": null,
   "metadata": {},
   "outputs": [],
   "source": [
    "import glob\n",
    "name = 'file_brain_AXFLAIR_200_6002462_{0:02d}'.format(z)\n",
    "path = sorted(glob.glob('./nerf2/results/config_brain/{0}/af_{1:02d}/{2}/*'.format(name, af, mode)))[-1]\n",
    "ckpt = sorted(glob.glob(path + '/*.pt'))[-1]\n",
    "imageinfo = ImageInfo([640,640,1], [.5,.5,.5])\n",
    "recon = runner.infer(imageinfo, ckpt)\n",
    "plt.imshow(recon[0], 'gray')"
   ]
  },
  {
   "cell_type": "code",
   "execution_count": null,
   "metadata": {},
   "outputs": [],
   "source": [
    "plt.imshow(data[:,0])"
   ]
  }
 ],
 "metadata": {
  "kernelspec": {
   "display_name": ".venv",
   "language": "python",
   "name": "python3"
  },
  "language_info": {
   "codemirror_mode": {
    "name": "ipython",
    "version": 3
   },
   "file_extension": ".py",
   "mimetype": "text/x-python",
   "name": "python",
   "nbconvert_exporter": "python",
   "pygments_lexer": "ipython3",
   "version": "3.10.12"
  }
 },
 "nbformat": 4,
 "nbformat_minor": 2
}
